{
 "cells": [
  {
   "cell_type": "markdown",
   "id": "2ac0d153-3909-4e64-abaf-9800f8090ca4",
   "metadata": {},
   "source": [
    "**Project Goal**"
   ]
  },
  {
   "cell_type": "markdown",
   "id": "afe504b2-9698-4f9b-911b-b9e8472a467a",
   "metadata": {},
   "source": [
    "Create a clean, analysis-ready dataset from raw files and build a dashboard to answer business questions like total sales, top products, monthly trends, etc."
   ]
  },
  {
   "cell_type": "markdown",
   "id": "7a5768e2-af8c-410d-be1e-2ae125c499dc",
   "metadata": {},
   "source": [
    "importing dependencies for this project"
   ]
  },
  {
   "cell_type": "markdown",
   "id": "3fb8d135-ac6c-4252-bc7c-5ff2b7122166",
   "metadata": {},
   "source": [
    "**ETL Process Breakdown**"
   ]
  },
  {
   "cell_type": "markdown",
   "id": "d37f8455-7618-497a-bb8d-6361a23fc697",
   "metadata": {},
   "source": [
    "Step 1: Extract"
   ]
  },
  {
   "cell_type": "code",
   "execution_count": 6,
   "id": "f285d7d1-449a-4093-86a7-3e343f45d9c1",
   "metadata": {},
   "outputs": [],
   "source": [
    "import numpy as np\n",
    "import pandas as pd\n",
    "import matplotlib.pyplot as plt\n",
    "import seaborn as sns"
   ]
  },
  {
   "cell_type": "code",
   "execution_count": 7,
   "id": "34dd8ca7-1d9d-4fa6-8c54-de095acfae2b",
   "metadata": {},
   "outputs": [],
   "source": [
    "sales = pd.read_csv(r\"C:\\Users\\Lenovo\\Desktop\\ETL\\sales.csv\")\n",
    "products = pd.read_csv(r\"C:\\Users\\Lenovo\\Desktop\\ETL\\products.csv\")\n",
    "stores = pd.read_csv(r\"C:\\Users\\Lenovo\\Desktop\\ETL\\stores.csv\")"
   ]
  },
  {
   "cell_type": "code",
   "execution_count": 8,
   "id": "a4f8bda7-d996-4a59-bbdd-550b6e795290",
   "metadata": {},
   "outputs": [
    {
     "data": {
      "text/html": [
       "<div>\n",
       "<style scoped>\n",
       "    .dataframe tbody tr th:only-of-type {\n",
       "        vertical-align: middle;\n",
       "    }\n",
       "\n",
       "    .dataframe tbody tr th {\n",
       "        vertical-align: top;\n",
       "    }\n",
       "\n",
       "    .dataframe thead th {\n",
       "        text-align: right;\n",
       "    }\n",
       "</style>\n",
       "<table border=\"1\" class=\"dataframe\">\n",
       "  <thead>\n",
       "    <tr style=\"text-align: right;\">\n",
       "      <th></th>\n",
       "      <th>sale_id</th>\n",
       "      <th>date</th>\n",
       "      <th>product_id</th>\n",
       "      <th>store_id</th>\n",
       "      <th>quantity</th>\n",
       "      <th>unit_price</th>\n",
       "    </tr>\n",
       "  </thead>\n",
       "  <tbody>\n",
       "    <tr>\n",
       "      <th>0</th>\n",
       "      <td>1</td>\n",
       "      <td>2023-02-21</td>\n",
       "      <td>108</td>\n",
       "      <td>4</td>\n",
       "      <td>6</td>\n",
       "      <td>19.59</td>\n",
       "    </tr>\n",
       "    <tr>\n",
       "      <th>1</th>\n",
       "      <td>2</td>\n",
       "      <td>2023-01-15</td>\n",
       "      <td>108</td>\n",
       "      <td>2</td>\n",
       "      <td>5</td>\n",
       "      <td>22.60</td>\n",
       "    </tr>\n",
       "    <tr>\n",
       "      <th>2</th>\n",
       "      <td>3</td>\n",
       "      <td>2023-03-13</td>\n",
       "      <td>107</td>\n",
       "      <td>4</td>\n",
       "      <td>4</td>\n",
       "      <td>33.73</td>\n",
       "    </tr>\n",
       "    <tr>\n",
       "      <th>3</th>\n",
       "      <td>4</td>\n",
       "      <td>2023-03-02</td>\n",
       "      <td>103</td>\n",
       "      <td>4</td>\n",
       "      <td>3</td>\n",
       "      <td>33.98</td>\n",
       "    </tr>\n",
       "    <tr>\n",
       "      <th>4</th>\n",
       "      <td>5</td>\n",
       "      <td>2023-01-21</td>\n",
       "      <td>101</td>\n",
       "      <td>5</td>\n",
       "      <td>1</td>\n",
       "      <td>75.90</td>\n",
       "    </tr>\n",
       "    <tr>\n",
       "      <th>...</th>\n",
       "      <td>...</td>\n",
       "      <td>...</td>\n",
       "      <td>...</td>\n",
       "      <td>...</td>\n",
       "      <td>...</td>\n",
       "      <td>...</td>\n",
       "    </tr>\n",
       "    <tr>\n",
       "      <th>295</th>\n",
       "      <td>296</td>\n",
       "      <td>2023-02-02</td>\n",
       "      <td>110</td>\n",
       "      <td>1</td>\n",
       "      <td>1</td>\n",
       "      <td>28.33</td>\n",
       "    </tr>\n",
       "    <tr>\n",
       "      <th>296</th>\n",
       "      <td>297</td>\n",
       "      <td>2023-01-14</td>\n",
       "      <td>103</td>\n",
       "      <td>4</td>\n",
       "      <td>5</td>\n",
       "      <td>18.20</td>\n",
       "    </tr>\n",
       "    <tr>\n",
       "      <th>297</th>\n",
       "      <td>298</td>\n",
       "      <td>2023-01-21</td>\n",
       "      <td>107</td>\n",
       "      <td>1</td>\n",
       "      <td>9</td>\n",
       "      <td>23.83</td>\n",
       "    </tr>\n",
       "    <tr>\n",
       "      <th>298</th>\n",
       "      <td>299</td>\n",
       "      <td>2023-02-17</td>\n",
       "      <td>103</td>\n",
       "      <td>4</td>\n",
       "      <td>6</td>\n",
       "      <td>50.83</td>\n",
       "    </tr>\n",
       "    <tr>\n",
       "      <th>299</th>\n",
       "      <td>300</td>\n",
       "      <td>2023-01-20</td>\n",
       "      <td>102</td>\n",
       "      <td>1</td>\n",
       "      <td>7</td>\n",
       "      <td>57.73</td>\n",
       "    </tr>\n",
       "  </tbody>\n",
       "</table>\n",
       "<p>300 rows × 6 columns</p>\n",
       "</div>"
      ],
      "text/plain": [
       "     sale_id        date  product_id  store_id  quantity  unit_price\n",
       "0          1  2023-02-21         108         4         6       19.59\n",
       "1          2  2023-01-15         108         2         5       22.60\n",
       "2          3  2023-03-13         107         4         4       33.73\n",
       "3          4  2023-03-02         103         4         3       33.98\n",
       "4          5  2023-01-21         101         5         1       75.90\n",
       "..       ...         ...         ...       ...       ...         ...\n",
       "295      296  2023-02-02         110         1         1       28.33\n",
       "296      297  2023-01-14         103         4         5       18.20\n",
       "297      298  2023-01-21         107         1         9       23.83\n",
       "298      299  2023-02-17         103         4         6       50.83\n",
       "299      300  2023-01-20         102         1         7       57.73\n",
       "\n",
       "[300 rows x 6 columns]"
      ]
     },
     "execution_count": 8,
     "metadata": {},
     "output_type": "execute_result"
    }
   ],
   "source": [
    "sales"
   ]
  },
  {
   "cell_type": "markdown",
   "id": "1915b797-29bb-4b92-9fa0-1d13ff46283a",
   "metadata": {},
   "source": [
    "Step 2: Transform"
   ]
  },
  {
   "cell_type": "markdown",
   "id": "d5091298-e2ca-4c55-a6d3-286219093930",
   "metadata": {},
   "source": [
    "walk thorugh with dataset checking the dtypes, infromation, null values if any , duplicate check"
   ]
  },
  {
   "cell_type": "code",
   "execution_count": 11,
   "id": "93134964-5e22-44e6-8faf-025a759538ca",
   "metadata": {},
   "outputs": [
    {
     "data": {
      "text/plain": [
       "(300, 6)"
      ]
     },
     "execution_count": 11,
     "metadata": {},
     "output_type": "execute_result"
    }
   ],
   "source": [
    "sales.shape"
   ]
  },
  {
   "cell_type": "code",
   "execution_count": 12,
   "id": "ed2602ee-b793-4000-967b-657fe61d2535",
   "metadata": {},
   "outputs": [
    {
     "data": {
      "text/plain": [
       "1800"
      ]
     },
     "execution_count": 12,
     "metadata": {},
     "output_type": "execute_result"
    }
   ],
   "source": [
    "sales.size"
   ]
  },
  {
   "cell_type": "code",
   "execution_count": 13,
   "id": "f4c42707-224b-4bba-98bb-399288bd9c75",
   "metadata": {},
   "outputs": [
    {
     "name": "stdout",
     "output_type": "stream",
     "text": [
      "<class 'pandas.core.frame.DataFrame'>\n",
      "RangeIndex: 300 entries, 0 to 299\n",
      "Data columns (total 6 columns):\n",
      " #   Column      Non-Null Count  Dtype  \n",
      "---  ------      --------------  -----  \n",
      " 0   sale_id     300 non-null    int64  \n",
      " 1   date        300 non-null    object \n",
      " 2   product_id  300 non-null    int64  \n",
      " 3   store_id    300 non-null    int64  \n",
      " 4   quantity    300 non-null    int64  \n",
      " 5   unit_price  300 non-null    float64\n",
      "dtypes: float64(1), int64(4), object(1)\n",
      "memory usage: 14.2+ KB\n"
     ]
    }
   ],
   "source": [
    "sales.info()"
   ]
  },
  {
   "cell_type": "code",
   "execution_count": 14,
   "id": "00a9157d-9bcf-4bde-a24b-0c733ea0c017",
   "metadata": {},
   "outputs": [
    {
     "data": {
      "text/html": [
       "<div>\n",
       "<style scoped>\n",
       "    .dataframe tbody tr th:only-of-type {\n",
       "        vertical-align: middle;\n",
       "    }\n",
       "\n",
       "    .dataframe tbody tr th {\n",
       "        vertical-align: top;\n",
       "    }\n",
       "\n",
       "    .dataframe thead th {\n",
       "        text-align: right;\n",
       "    }\n",
       "</style>\n",
       "<table border=\"1\" class=\"dataframe\">\n",
       "  <thead>\n",
       "    <tr style=\"text-align: right;\">\n",
       "      <th></th>\n",
       "      <th>sale_id</th>\n",
       "      <th>product_id</th>\n",
       "      <th>store_id</th>\n",
       "      <th>quantity</th>\n",
       "      <th>unit_price</th>\n",
       "    </tr>\n",
       "  </thead>\n",
       "  <tbody>\n",
       "    <tr>\n",
       "      <th>count</th>\n",
       "      <td>300.000000</td>\n",
       "      <td>300.000000</td>\n",
       "      <td>300.0000</td>\n",
       "      <td>300.000000</td>\n",
       "      <td>300.000000</td>\n",
       "    </tr>\n",
       "    <tr>\n",
       "      <th>mean</th>\n",
       "      <td>150.500000</td>\n",
       "      <td>105.513333</td>\n",
       "      <td>2.9700</td>\n",
       "      <td>4.950000</td>\n",
       "      <td>55.364267</td>\n",
       "    </tr>\n",
       "    <tr>\n",
       "      <th>std</th>\n",
       "      <td>86.746758</td>\n",
       "      <td>2.975343</td>\n",
       "      <td>1.4524</td>\n",
       "      <td>2.583877</td>\n",
       "      <td>27.414417</td>\n",
       "    </tr>\n",
       "    <tr>\n",
       "      <th>min</th>\n",
       "      <td>1.000000</td>\n",
       "      <td>101.000000</td>\n",
       "      <td>1.0000</td>\n",
       "      <td>1.000000</td>\n",
       "      <td>10.020000</td>\n",
       "    </tr>\n",
       "    <tr>\n",
       "      <th>25%</th>\n",
       "      <td>75.750000</td>\n",
       "      <td>103.000000</td>\n",
       "      <td>2.0000</td>\n",
       "      <td>3.000000</td>\n",
       "      <td>31.297500</td>\n",
       "    </tr>\n",
       "    <tr>\n",
       "      <th>50%</th>\n",
       "      <td>150.500000</td>\n",
       "      <td>105.000000</td>\n",
       "      <td>3.0000</td>\n",
       "      <td>5.000000</td>\n",
       "      <td>56.730000</td>\n",
       "    </tr>\n",
       "    <tr>\n",
       "      <th>75%</th>\n",
       "      <td>225.250000</td>\n",
       "      <td>108.000000</td>\n",
       "      <td>4.0000</td>\n",
       "      <td>7.000000</td>\n",
       "      <td>79.390000</td>\n",
       "    </tr>\n",
       "    <tr>\n",
       "      <th>max</th>\n",
       "      <td>300.000000</td>\n",
       "      <td>110.000000</td>\n",
       "      <td>5.0000</td>\n",
       "      <td>9.000000</td>\n",
       "      <td>99.940000</td>\n",
       "    </tr>\n",
       "  </tbody>\n",
       "</table>\n",
       "</div>"
      ],
      "text/plain": [
       "          sale_id  product_id  store_id    quantity  unit_price\n",
       "count  300.000000  300.000000  300.0000  300.000000  300.000000\n",
       "mean   150.500000  105.513333    2.9700    4.950000   55.364267\n",
       "std     86.746758    2.975343    1.4524    2.583877   27.414417\n",
       "min      1.000000  101.000000    1.0000    1.000000   10.020000\n",
       "25%     75.750000  103.000000    2.0000    3.000000   31.297500\n",
       "50%    150.500000  105.000000    3.0000    5.000000   56.730000\n",
       "75%    225.250000  108.000000    4.0000    7.000000   79.390000\n",
       "max    300.000000  110.000000    5.0000    9.000000   99.940000"
      ]
     },
     "execution_count": 14,
     "metadata": {},
     "output_type": "execute_result"
    }
   ],
   "source": [
    "sales.describe()"
   ]
  },
  {
   "cell_type": "code",
   "execution_count": 15,
   "id": "91978724-c94b-42e2-8e04-a259c60f4424",
   "metadata": {},
   "outputs": [
    {
     "data": {
      "text/plain": [
       "sale_id       0\n",
       "date          0\n",
       "product_id    0\n",
       "store_id      0\n",
       "quantity      0\n",
       "unit_price    0\n",
       "dtype: int64"
      ]
     },
     "execution_count": 15,
     "metadata": {},
     "output_type": "execute_result"
    }
   ],
   "source": [
    "sales.isnull().sum() #No null values found"
   ]
  },
  {
   "cell_type": "code",
   "execution_count": 16,
   "id": "abb55f6f-2a8f-4c77-b86c-0c4f54bfafd5",
   "metadata": {},
   "outputs": [
    {
     "data": {
      "text/plain": [
       "0"
      ]
     },
     "execution_count": 16,
     "metadata": {},
     "output_type": "execute_result"
    }
   ],
   "source": [
    "sales.duplicated().sum() #No duplicate in sales data"
   ]
  },
  {
   "cell_type": "code",
   "execution_count": 17,
   "id": "1ecc4277-fc14-4f88-8535-88b371333bcd",
   "metadata": {},
   "outputs": [
    {
     "data": {
      "text/plain": [
       "(10, 3)"
      ]
     },
     "execution_count": 17,
     "metadata": {},
     "output_type": "execute_result"
    }
   ],
   "source": [
    "products.shape"
   ]
  },
  {
   "cell_type": "code",
   "execution_count": 18,
   "id": "058cbb8a-56a9-4f93-b533-80e5fada408c",
   "metadata": {},
   "outputs": [
    {
     "data": {
      "text/plain": [
       "30"
      ]
     },
     "execution_count": 18,
     "metadata": {},
     "output_type": "execute_result"
    }
   ],
   "source": [
    "products.size"
   ]
  },
  {
   "cell_type": "code",
   "execution_count": 19,
   "id": "52ee1c19-e2a4-46de-83a9-d955873e7f13",
   "metadata": {},
   "outputs": [
    {
     "name": "stdout",
     "output_type": "stream",
     "text": [
      "<class 'pandas.core.frame.DataFrame'>\n",
      "RangeIndex: 10 entries, 0 to 9\n",
      "Data columns (total 3 columns):\n",
      " #   Column        Non-Null Count  Dtype \n",
      "---  ------        --------------  ----- \n",
      " 0   product_id    10 non-null     int64 \n",
      " 1   product_name  10 non-null     object\n",
      " 2   category      10 non-null     object\n",
      "dtypes: int64(1), object(2)\n",
      "memory usage: 372.0+ bytes\n"
     ]
    }
   ],
   "source": [
    "products.info()"
   ]
  },
  {
   "cell_type": "code",
   "execution_count": 20,
   "id": "9e0489b5-a0e6-4411-9b90-4c3a8ceb6a05",
   "metadata": {},
   "outputs": [
    {
     "data": {
      "text/html": [
       "<div>\n",
       "<style scoped>\n",
       "    .dataframe tbody tr th:only-of-type {\n",
       "        vertical-align: middle;\n",
       "    }\n",
       "\n",
       "    .dataframe tbody tr th {\n",
       "        vertical-align: top;\n",
       "    }\n",
       "\n",
       "    .dataframe thead th {\n",
       "        text-align: right;\n",
       "    }\n",
       "</style>\n",
       "<table border=\"1\" class=\"dataframe\">\n",
       "  <thead>\n",
       "    <tr style=\"text-align: right;\">\n",
       "      <th></th>\n",
       "      <th>product_id</th>\n",
       "    </tr>\n",
       "  </thead>\n",
       "  <tbody>\n",
       "    <tr>\n",
       "      <th>count</th>\n",
       "      <td>10.00000</td>\n",
       "    </tr>\n",
       "    <tr>\n",
       "      <th>mean</th>\n",
       "      <td>105.50000</td>\n",
       "    </tr>\n",
       "    <tr>\n",
       "      <th>std</th>\n",
       "      <td>3.02765</td>\n",
       "    </tr>\n",
       "    <tr>\n",
       "      <th>min</th>\n",
       "      <td>101.00000</td>\n",
       "    </tr>\n",
       "    <tr>\n",
       "      <th>25%</th>\n",
       "      <td>103.25000</td>\n",
       "    </tr>\n",
       "    <tr>\n",
       "      <th>50%</th>\n",
       "      <td>105.50000</td>\n",
       "    </tr>\n",
       "    <tr>\n",
       "      <th>75%</th>\n",
       "      <td>107.75000</td>\n",
       "    </tr>\n",
       "    <tr>\n",
       "      <th>max</th>\n",
       "      <td>110.00000</td>\n",
       "    </tr>\n",
       "  </tbody>\n",
       "</table>\n",
       "</div>"
      ],
      "text/plain": [
       "       product_id\n",
       "count    10.00000\n",
       "mean    105.50000\n",
       "std       3.02765\n",
       "min     101.00000\n",
       "25%     103.25000\n",
       "50%     105.50000\n",
       "75%     107.75000\n",
       "max     110.00000"
      ]
     },
     "execution_count": 20,
     "metadata": {},
     "output_type": "execute_result"
    }
   ],
   "source": [
    "products.describe()"
   ]
  },
  {
   "cell_type": "code",
   "execution_count": 21,
   "id": "b0447c98-a4b1-4316-b84d-4d2660f8ca2d",
   "metadata": {},
   "outputs": [
    {
     "data": {
      "text/plain": [
       "product_id      0\n",
       "product_name    0\n",
       "category        0\n",
       "dtype: int64"
      ]
     },
     "execution_count": 21,
     "metadata": {},
     "output_type": "execute_result"
    }
   ],
   "source": [
    "products.isnull().sum()  # No null values in products "
   ]
  },
  {
   "cell_type": "code",
   "execution_count": 22,
   "id": "d3188276-8dd4-42d6-ab54-bf2e41fa2275",
   "metadata": {},
   "outputs": [
    {
     "data": {
      "text/plain": [
       "0"
      ]
     },
     "execution_count": 22,
     "metadata": {},
     "output_type": "execute_result"
    }
   ],
   "source": [
    "products.duplicated().sum() #No duplicate values in product data"
   ]
  },
  {
   "cell_type": "code",
   "execution_count": 23,
   "id": "1fddcab9-6d70-4616-9c35-612da68c2841",
   "metadata": {},
   "outputs": [
    {
     "data": {
      "text/plain": [
       "(5, 3)"
      ]
     },
     "execution_count": 23,
     "metadata": {},
     "output_type": "execute_result"
    }
   ],
   "source": [
    "stores.shape"
   ]
  },
  {
   "cell_type": "code",
   "execution_count": 24,
   "id": "8e1f47c3-a5c3-458d-8f6d-4d8b6efa83e5",
   "metadata": {},
   "outputs": [
    {
     "data": {
      "text/plain": [
       "15"
      ]
     },
     "execution_count": 24,
     "metadata": {},
     "output_type": "execute_result"
    }
   ],
   "source": [
    "stores.size"
   ]
  },
  {
   "cell_type": "code",
   "execution_count": 25,
   "id": "1dcae552-67d6-4336-8ebe-e516cf590483",
   "metadata": {},
   "outputs": [
    {
     "name": "stdout",
     "output_type": "stream",
     "text": [
      "<class 'pandas.core.frame.DataFrame'>\n",
      "RangeIndex: 5 entries, 0 to 4\n",
      "Data columns (total 3 columns):\n",
      " #   Column      Non-Null Count  Dtype \n",
      "---  ------      --------------  ----- \n",
      " 0   store_id    5 non-null      int64 \n",
      " 1   store_name  5 non-null      object\n",
      " 2   location    5 non-null      object\n",
      "dtypes: int64(1), object(2)\n",
      "memory usage: 252.0+ bytes\n"
     ]
    }
   ],
   "source": [
    "stores.info()"
   ]
  },
  {
   "cell_type": "markdown",
   "id": "71db7308-33e1-43fe-af14-657b4a17cb54",
   "metadata": {},
   "source": [
    "**Convert date columns to datetime**"
   ]
  },
  {
   "cell_type": "code",
   "execution_count": 27,
   "id": "51351812-d9b6-42de-8bc3-3e2b9c295750",
   "metadata": {},
   "outputs": [
    {
     "data": {
      "text/html": [
       "<div>\n",
       "<style scoped>\n",
       "    .dataframe tbody tr th:only-of-type {\n",
       "        vertical-align: middle;\n",
       "    }\n",
       "\n",
       "    .dataframe tbody tr th {\n",
       "        vertical-align: top;\n",
       "    }\n",
       "\n",
       "    .dataframe thead th {\n",
       "        text-align: right;\n",
       "    }\n",
       "</style>\n",
       "<table border=\"1\" class=\"dataframe\">\n",
       "  <thead>\n",
       "    <tr style=\"text-align: right;\">\n",
       "      <th></th>\n",
       "      <th>sale_id</th>\n",
       "      <th>date</th>\n",
       "      <th>product_id</th>\n",
       "      <th>store_id</th>\n",
       "      <th>quantity</th>\n",
       "      <th>unit_price</th>\n",
       "    </tr>\n",
       "  </thead>\n",
       "  <tbody>\n",
       "    <tr>\n",
       "      <th>0</th>\n",
       "      <td>1</td>\n",
       "      <td>2023-02-21</td>\n",
       "      <td>108</td>\n",
       "      <td>4</td>\n",
       "      <td>6</td>\n",
       "      <td>19.59</td>\n",
       "    </tr>\n",
       "    <tr>\n",
       "      <th>1</th>\n",
       "      <td>2</td>\n",
       "      <td>2023-01-15</td>\n",
       "      <td>108</td>\n",
       "      <td>2</td>\n",
       "      <td>5</td>\n",
       "      <td>22.60</td>\n",
       "    </tr>\n",
       "    <tr>\n",
       "      <th>2</th>\n",
       "      <td>3</td>\n",
       "      <td>2023-03-13</td>\n",
       "      <td>107</td>\n",
       "      <td>4</td>\n",
       "      <td>4</td>\n",
       "      <td>33.73</td>\n",
       "    </tr>\n",
       "    <tr>\n",
       "      <th>3</th>\n",
       "      <td>4</td>\n",
       "      <td>2023-03-02</td>\n",
       "      <td>103</td>\n",
       "      <td>4</td>\n",
       "      <td>3</td>\n",
       "      <td>33.98</td>\n",
       "    </tr>\n",
       "    <tr>\n",
       "      <th>4</th>\n",
       "      <td>5</td>\n",
       "      <td>2023-01-21</td>\n",
       "      <td>101</td>\n",
       "      <td>5</td>\n",
       "      <td>1</td>\n",
       "      <td>75.90</td>\n",
       "    </tr>\n",
       "    <tr>\n",
       "      <th>...</th>\n",
       "      <td>...</td>\n",
       "      <td>...</td>\n",
       "      <td>...</td>\n",
       "      <td>...</td>\n",
       "      <td>...</td>\n",
       "      <td>...</td>\n",
       "    </tr>\n",
       "    <tr>\n",
       "      <th>295</th>\n",
       "      <td>296</td>\n",
       "      <td>2023-02-02</td>\n",
       "      <td>110</td>\n",
       "      <td>1</td>\n",
       "      <td>1</td>\n",
       "      <td>28.33</td>\n",
       "    </tr>\n",
       "    <tr>\n",
       "      <th>296</th>\n",
       "      <td>297</td>\n",
       "      <td>2023-01-14</td>\n",
       "      <td>103</td>\n",
       "      <td>4</td>\n",
       "      <td>5</td>\n",
       "      <td>18.20</td>\n",
       "    </tr>\n",
       "    <tr>\n",
       "      <th>297</th>\n",
       "      <td>298</td>\n",
       "      <td>2023-01-21</td>\n",
       "      <td>107</td>\n",
       "      <td>1</td>\n",
       "      <td>9</td>\n",
       "      <td>23.83</td>\n",
       "    </tr>\n",
       "    <tr>\n",
       "      <th>298</th>\n",
       "      <td>299</td>\n",
       "      <td>2023-02-17</td>\n",
       "      <td>103</td>\n",
       "      <td>4</td>\n",
       "      <td>6</td>\n",
       "      <td>50.83</td>\n",
       "    </tr>\n",
       "    <tr>\n",
       "      <th>299</th>\n",
       "      <td>300</td>\n",
       "      <td>2023-01-20</td>\n",
       "      <td>102</td>\n",
       "      <td>1</td>\n",
       "      <td>7</td>\n",
       "      <td>57.73</td>\n",
       "    </tr>\n",
       "  </tbody>\n",
       "</table>\n",
       "<p>300 rows × 6 columns</p>\n",
       "</div>"
      ],
      "text/plain": [
       "     sale_id        date  product_id  store_id  quantity  unit_price\n",
       "0          1  2023-02-21         108         4         6       19.59\n",
       "1          2  2023-01-15         108         2         5       22.60\n",
       "2          3  2023-03-13         107         4         4       33.73\n",
       "3          4  2023-03-02         103         4         3       33.98\n",
       "4          5  2023-01-21         101         5         1       75.90\n",
       "..       ...         ...         ...       ...       ...         ...\n",
       "295      296  2023-02-02         110         1         1       28.33\n",
       "296      297  2023-01-14         103         4         5       18.20\n",
       "297      298  2023-01-21         107         1         9       23.83\n",
       "298      299  2023-02-17         103         4         6       50.83\n",
       "299      300  2023-01-20         102         1         7       57.73\n",
       "\n",
       "[300 rows x 6 columns]"
      ]
     },
     "execution_count": 27,
     "metadata": {},
     "output_type": "execute_result"
    }
   ],
   "source": [
    "sales"
   ]
  },
  {
   "cell_type": "code",
   "execution_count": 28,
   "id": "25770bd2-0bc8-4b03-b99e-15540ac3dfa2",
   "metadata": {},
   "outputs": [
    {
     "data": {
      "text/plain": [
       "sale_id         int64\n",
       "date           object\n",
       "product_id      int64\n",
       "store_id        int64\n",
       "quantity        int64\n",
       "unit_price    float64\n",
       "dtype: object"
      ]
     },
     "execution_count": 28,
     "metadata": {},
     "output_type": "execute_result"
    }
   ],
   "source": [
    "sales.dtypes"
   ]
  },
  {
   "cell_type": "code",
   "execution_count": 29,
   "id": "a271f665-6a63-43ef-aca7-8a78475b6814",
   "metadata": {},
   "outputs": [],
   "source": [
    "sales['date'] = pd.to_datetime(sales['date'])"
   ]
  },
  {
   "cell_type": "code",
   "execution_count": 30,
   "id": "d8f1d9c0-6be3-4edd-aa70-fc7d3805d7a4",
   "metadata": {},
   "outputs": [
    {
     "data": {
      "text/plain": [
       "sale_id                int64\n",
       "date          datetime64[ns]\n",
       "product_id             int64\n",
       "store_id               int64\n",
       "quantity               int64\n",
       "unit_price           float64\n",
       "dtype: object"
      ]
     },
     "execution_count": 30,
     "metadata": {},
     "output_type": "execute_result"
    }
   ],
   "source": [
    "sales.dtypes"
   ]
  },
  {
   "cell_type": "markdown",
   "id": "c0a676b7-4bea-4e96-a18e-c8757ae2bdb2",
   "metadata": {},
   "source": [
    "**Merge dataframes on keys (e.g., product_id, store_id)**"
   ]
  },
  {
   "cell_type": "code",
   "execution_count": 32,
   "id": "88c8bd24-711b-4cba-b9d7-46d90b03e599",
   "metadata": {},
   "outputs": [],
   "source": [
    "df = sales.merge(products, on='product_id').merge(stores, on='store_id')"
   ]
  },
  {
   "cell_type": "code",
   "execution_count": 33,
   "id": "90f5ebea-3d1a-4581-a0e9-11c018398716",
   "metadata": {},
   "outputs": [
    {
     "data": {
      "text/html": [
       "<div>\n",
       "<style scoped>\n",
       "    .dataframe tbody tr th:only-of-type {\n",
       "        vertical-align: middle;\n",
       "    }\n",
       "\n",
       "    .dataframe tbody tr th {\n",
       "        vertical-align: top;\n",
       "    }\n",
       "\n",
       "    .dataframe thead th {\n",
       "        text-align: right;\n",
       "    }\n",
       "</style>\n",
       "<table border=\"1\" class=\"dataframe\">\n",
       "  <thead>\n",
       "    <tr style=\"text-align: right;\">\n",
       "      <th></th>\n",
       "      <th>sale_id</th>\n",
       "      <th>date</th>\n",
       "      <th>product_id</th>\n",
       "      <th>store_id</th>\n",
       "      <th>quantity</th>\n",
       "      <th>unit_price</th>\n",
       "      <th>product_name</th>\n",
       "      <th>category</th>\n",
       "      <th>store_name</th>\n",
       "      <th>location</th>\n",
       "    </tr>\n",
       "  </thead>\n",
       "  <tbody>\n",
       "    <tr>\n",
       "      <th>0</th>\n",
       "      <td>1</td>\n",
       "      <td>2023-02-21</td>\n",
       "      <td>108</td>\n",
       "      <td>4</td>\n",
       "      <td>6</td>\n",
       "      <td>19.59</td>\n",
       "      <td>Product_108</td>\n",
       "      <td>Toys</td>\n",
       "      <td>Store_4</td>\n",
       "      <td>Houston</td>\n",
       "    </tr>\n",
       "    <tr>\n",
       "      <th>1</th>\n",
       "      <td>2</td>\n",
       "      <td>2023-01-15</td>\n",
       "      <td>108</td>\n",
       "      <td>2</td>\n",
       "      <td>5</td>\n",
       "      <td>22.60</td>\n",
       "      <td>Product_108</td>\n",
       "      <td>Toys</td>\n",
       "      <td>Store_2</td>\n",
       "      <td>New York</td>\n",
       "    </tr>\n",
       "    <tr>\n",
       "      <th>2</th>\n",
       "      <td>3</td>\n",
       "      <td>2023-03-13</td>\n",
       "      <td>107</td>\n",
       "      <td>4</td>\n",
       "      <td>4</td>\n",
       "      <td>33.73</td>\n",
       "      <td>Product_107</td>\n",
       "      <td>Toys</td>\n",
       "      <td>Store_4</td>\n",
       "      <td>Houston</td>\n",
       "    </tr>\n",
       "    <tr>\n",
       "      <th>3</th>\n",
       "      <td>4</td>\n",
       "      <td>2023-03-02</td>\n",
       "      <td>103</td>\n",
       "      <td>4</td>\n",
       "      <td>3</td>\n",
       "      <td>33.98</td>\n",
       "      <td>Product_103</td>\n",
       "      <td>Electronics</td>\n",
       "      <td>Store_4</td>\n",
       "      <td>Houston</td>\n",
       "    </tr>\n",
       "    <tr>\n",
       "      <th>4</th>\n",
       "      <td>5</td>\n",
       "      <td>2023-01-21</td>\n",
       "      <td>101</td>\n",
       "      <td>5</td>\n",
       "      <td>1</td>\n",
       "      <td>75.90</td>\n",
       "      <td>Product_101</td>\n",
       "      <td>Home</td>\n",
       "      <td>Store_5</td>\n",
       "      <td>Houston</td>\n",
       "    </tr>\n",
       "    <tr>\n",
       "      <th>...</th>\n",
       "      <td>...</td>\n",
       "      <td>...</td>\n",
       "      <td>...</td>\n",
       "      <td>...</td>\n",
       "      <td>...</td>\n",
       "      <td>...</td>\n",
       "      <td>...</td>\n",
       "      <td>...</td>\n",
       "      <td>...</td>\n",
       "      <td>...</td>\n",
       "    </tr>\n",
       "    <tr>\n",
       "      <th>295</th>\n",
       "      <td>296</td>\n",
       "      <td>2023-02-02</td>\n",
       "      <td>110</td>\n",
       "      <td>1</td>\n",
       "      <td>1</td>\n",
       "      <td>28.33</td>\n",
       "      <td>Product_110</td>\n",
       "      <td>Home</td>\n",
       "      <td>Store_1</td>\n",
       "      <td>Houston</td>\n",
       "    </tr>\n",
       "    <tr>\n",
       "      <th>296</th>\n",
       "      <td>297</td>\n",
       "      <td>2023-01-14</td>\n",
       "      <td>103</td>\n",
       "      <td>4</td>\n",
       "      <td>5</td>\n",
       "      <td>18.20</td>\n",
       "      <td>Product_103</td>\n",
       "      <td>Electronics</td>\n",
       "      <td>Store_4</td>\n",
       "      <td>Houston</td>\n",
       "    </tr>\n",
       "    <tr>\n",
       "      <th>297</th>\n",
       "      <td>298</td>\n",
       "      <td>2023-01-21</td>\n",
       "      <td>107</td>\n",
       "      <td>1</td>\n",
       "      <td>9</td>\n",
       "      <td>23.83</td>\n",
       "      <td>Product_107</td>\n",
       "      <td>Toys</td>\n",
       "      <td>Store_1</td>\n",
       "      <td>Houston</td>\n",
       "    </tr>\n",
       "    <tr>\n",
       "      <th>298</th>\n",
       "      <td>299</td>\n",
       "      <td>2023-02-17</td>\n",
       "      <td>103</td>\n",
       "      <td>4</td>\n",
       "      <td>6</td>\n",
       "      <td>50.83</td>\n",
       "      <td>Product_103</td>\n",
       "      <td>Electronics</td>\n",
       "      <td>Store_4</td>\n",
       "      <td>Houston</td>\n",
       "    </tr>\n",
       "    <tr>\n",
       "      <th>299</th>\n",
       "      <td>300</td>\n",
       "      <td>2023-01-20</td>\n",
       "      <td>102</td>\n",
       "      <td>1</td>\n",
       "      <td>7</td>\n",
       "      <td>57.73</td>\n",
       "      <td>Product_102</td>\n",
       "      <td>Home</td>\n",
       "      <td>Store_1</td>\n",
       "      <td>Houston</td>\n",
       "    </tr>\n",
       "  </tbody>\n",
       "</table>\n",
       "<p>300 rows × 10 columns</p>\n",
       "</div>"
      ],
      "text/plain": [
       "     sale_id       date  product_id  store_id  quantity  unit_price  \\\n",
       "0          1 2023-02-21         108         4         6       19.59   \n",
       "1          2 2023-01-15         108         2         5       22.60   \n",
       "2          3 2023-03-13         107         4         4       33.73   \n",
       "3          4 2023-03-02         103         4         3       33.98   \n",
       "4          5 2023-01-21         101         5         1       75.90   \n",
       "..       ...        ...         ...       ...       ...         ...   \n",
       "295      296 2023-02-02         110         1         1       28.33   \n",
       "296      297 2023-01-14         103         4         5       18.20   \n",
       "297      298 2023-01-21         107         1         9       23.83   \n",
       "298      299 2023-02-17         103         4         6       50.83   \n",
       "299      300 2023-01-20         102         1         7       57.73   \n",
       "\n",
       "    product_name     category store_name  location  \n",
       "0    Product_108         Toys    Store_4   Houston  \n",
       "1    Product_108         Toys    Store_2  New York  \n",
       "2    Product_107         Toys    Store_4   Houston  \n",
       "3    Product_103  Electronics    Store_4   Houston  \n",
       "4    Product_101         Home    Store_5   Houston  \n",
       "..           ...          ...        ...       ...  \n",
       "295  Product_110         Home    Store_1   Houston  \n",
       "296  Product_103  Electronics    Store_4   Houston  \n",
       "297  Product_107         Toys    Store_1   Houston  \n",
       "298  Product_103  Electronics    Store_4   Houston  \n",
       "299  Product_102         Home    Store_1   Houston  \n",
       "\n",
       "[300 rows x 10 columns]"
      ]
     },
     "execution_count": 33,
     "metadata": {},
     "output_type": "execute_result"
    }
   ],
   "source": [
    "df"
   ]
  },
  {
   "cell_type": "markdown",
   "id": "ac11ff55-d0df-4dc7-9297-b03721bdb7ad",
   "metadata": {},
   "source": [
    "**Adding a column called total price**"
   ]
  },
  {
   "cell_type": "code",
   "execution_count": 35,
   "id": "6f055962-c8b5-42df-b16e-ae5fb04e4a21",
   "metadata": {},
   "outputs": [],
   "source": [
    "df['total_price'] = df['quantity'] * df['unit_price']"
   ]
  },
  {
   "cell_type": "code",
   "execution_count": 36,
   "id": "5c646772-f670-40e6-9727-5bfc2a1dae64",
   "metadata": {},
   "outputs": [
    {
     "data": {
      "text/html": [
       "<div>\n",
       "<style scoped>\n",
       "    .dataframe tbody tr th:only-of-type {\n",
       "        vertical-align: middle;\n",
       "    }\n",
       "\n",
       "    .dataframe tbody tr th {\n",
       "        vertical-align: top;\n",
       "    }\n",
       "\n",
       "    .dataframe thead th {\n",
       "        text-align: right;\n",
       "    }\n",
       "</style>\n",
       "<table border=\"1\" class=\"dataframe\">\n",
       "  <thead>\n",
       "    <tr style=\"text-align: right;\">\n",
       "      <th></th>\n",
       "      <th>sale_id</th>\n",
       "      <th>date</th>\n",
       "      <th>product_id</th>\n",
       "      <th>store_id</th>\n",
       "      <th>quantity</th>\n",
       "      <th>unit_price</th>\n",
       "      <th>product_name</th>\n",
       "      <th>category</th>\n",
       "      <th>store_name</th>\n",
       "      <th>location</th>\n",
       "      <th>total_price</th>\n",
       "    </tr>\n",
       "  </thead>\n",
       "  <tbody>\n",
       "    <tr>\n",
       "      <th>0</th>\n",
       "      <td>1</td>\n",
       "      <td>2023-02-21</td>\n",
       "      <td>108</td>\n",
       "      <td>4</td>\n",
       "      <td>6</td>\n",
       "      <td>19.59</td>\n",
       "      <td>Product_108</td>\n",
       "      <td>Toys</td>\n",
       "      <td>Store_4</td>\n",
       "      <td>Houston</td>\n",
       "      <td>117.54</td>\n",
       "    </tr>\n",
       "    <tr>\n",
       "      <th>1</th>\n",
       "      <td>2</td>\n",
       "      <td>2023-01-15</td>\n",
       "      <td>108</td>\n",
       "      <td>2</td>\n",
       "      <td>5</td>\n",
       "      <td>22.60</td>\n",
       "      <td>Product_108</td>\n",
       "      <td>Toys</td>\n",
       "      <td>Store_2</td>\n",
       "      <td>New York</td>\n",
       "      <td>113.00</td>\n",
       "    </tr>\n",
       "    <tr>\n",
       "      <th>2</th>\n",
       "      <td>3</td>\n",
       "      <td>2023-03-13</td>\n",
       "      <td>107</td>\n",
       "      <td>4</td>\n",
       "      <td>4</td>\n",
       "      <td>33.73</td>\n",
       "      <td>Product_107</td>\n",
       "      <td>Toys</td>\n",
       "      <td>Store_4</td>\n",
       "      <td>Houston</td>\n",
       "      <td>134.92</td>\n",
       "    </tr>\n",
       "    <tr>\n",
       "      <th>3</th>\n",
       "      <td>4</td>\n",
       "      <td>2023-03-02</td>\n",
       "      <td>103</td>\n",
       "      <td>4</td>\n",
       "      <td>3</td>\n",
       "      <td>33.98</td>\n",
       "      <td>Product_103</td>\n",
       "      <td>Electronics</td>\n",
       "      <td>Store_4</td>\n",
       "      <td>Houston</td>\n",
       "      <td>101.94</td>\n",
       "    </tr>\n",
       "    <tr>\n",
       "      <th>4</th>\n",
       "      <td>5</td>\n",
       "      <td>2023-01-21</td>\n",
       "      <td>101</td>\n",
       "      <td>5</td>\n",
       "      <td>1</td>\n",
       "      <td>75.90</td>\n",
       "      <td>Product_101</td>\n",
       "      <td>Home</td>\n",
       "      <td>Store_5</td>\n",
       "      <td>Houston</td>\n",
       "      <td>75.90</td>\n",
       "    </tr>\n",
       "    <tr>\n",
       "      <th>...</th>\n",
       "      <td>...</td>\n",
       "      <td>...</td>\n",
       "      <td>...</td>\n",
       "      <td>...</td>\n",
       "      <td>...</td>\n",
       "      <td>...</td>\n",
       "      <td>...</td>\n",
       "      <td>...</td>\n",
       "      <td>...</td>\n",
       "      <td>...</td>\n",
       "      <td>...</td>\n",
       "    </tr>\n",
       "    <tr>\n",
       "      <th>295</th>\n",
       "      <td>296</td>\n",
       "      <td>2023-02-02</td>\n",
       "      <td>110</td>\n",
       "      <td>1</td>\n",
       "      <td>1</td>\n",
       "      <td>28.33</td>\n",
       "      <td>Product_110</td>\n",
       "      <td>Home</td>\n",
       "      <td>Store_1</td>\n",
       "      <td>Houston</td>\n",
       "      <td>28.33</td>\n",
       "    </tr>\n",
       "    <tr>\n",
       "      <th>296</th>\n",
       "      <td>297</td>\n",
       "      <td>2023-01-14</td>\n",
       "      <td>103</td>\n",
       "      <td>4</td>\n",
       "      <td>5</td>\n",
       "      <td>18.20</td>\n",
       "      <td>Product_103</td>\n",
       "      <td>Electronics</td>\n",
       "      <td>Store_4</td>\n",
       "      <td>Houston</td>\n",
       "      <td>91.00</td>\n",
       "    </tr>\n",
       "    <tr>\n",
       "      <th>297</th>\n",
       "      <td>298</td>\n",
       "      <td>2023-01-21</td>\n",
       "      <td>107</td>\n",
       "      <td>1</td>\n",
       "      <td>9</td>\n",
       "      <td>23.83</td>\n",
       "      <td>Product_107</td>\n",
       "      <td>Toys</td>\n",
       "      <td>Store_1</td>\n",
       "      <td>Houston</td>\n",
       "      <td>214.47</td>\n",
       "    </tr>\n",
       "    <tr>\n",
       "      <th>298</th>\n",
       "      <td>299</td>\n",
       "      <td>2023-02-17</td>\n",
       "      <td>103</td>\n",
       "      <td>4</td>\n",
       "      <td>6</td>\n",
       "      <td>50.83</td>\n",
       "      <td>Product_103</td>\n",
       "      <td>Electronics</td>\n",
       "      <td>Store_4</td>\n",
       "      <td>Houston</td>\n",
       "      <td>304.98</td>\n",
       "    </tr>\n",
       "    <tr>\n",
       "      <th>299</th>\n",
       "      <td>300</td>\n",
       "      <td>2023-01-20</td>\n",
       "      <td>102</td>\n",
       "      <td>1</td>\n",
       "      <td>7</td>\n",
       "      <td>57.73</td>\n",
       "      <td>Product_102</td>\n",
       "      <td>Home</td>\n",
       "      <td>Store_1</td>\n",
       "      <td>Houston</td>\n",
       "      <td>404.11</td>\n",
       "    </tr>\n",
       "  </tbody>\n",
       "</table>\n",
       "<p>300 rows × 11 columns</p>\n",
       "</div>"
      ],
      "text/plain": [
       "     sale_id       date  product_id  store_id  quantity  unit_price  \\\n",
       "0          1 2023-02-21         108         4         6       19.59   \n",
       "1          2 2023-01-15         108         2         5       22.60   \n",
       "2          3 2023-03-13         107         4         4       33.73   \n",
       "3          4 2023-03-02         103         4         3       33.98   \n",
       "4          5 2023-01-21         101         5         1       75.90   \n",
       "..       ...        ...         ...       ...       ...         ...   \n",
       "295      296 2023-02-02         110         1         1       28.33   \n",
       "296      297 2023-01-14         103         4         5       18.20   \n",
       "297      298 2023-01-21         107         1         9       23.83   \n",
       "298      299 2023-02-17         103         4         6       50.83   \n",
       "299      300 2023-01-20         102         1         7       57.73   \n",
       "\n",
       "    product_name     category store_name  location  total_price  \n",
       "0    Product_108         Toys    Store_4   Houston       117.54  \n",
       "1    Product_108         Toys    Store_2  New York       113.00  \n",
       "2    Product_107         Toys    Store_4   Houston       134.92  \n",
       "3    Product_103  Electronics    Store_4   Houston       101.94  \n",
       "4    Product_101         Home    Store_5   Houston        75.90  \n",
       "..           ...          ...        ...       ...          ...  \n",
       "295  Product_110         Home    Store_1   Houston        28.33  \n",
       "296  Product_103  Electronics    Store_4   Houston        91.00  \n",
       "297  Product_107         Toys    Store_1   Houston       214.47  \n",
       "298  Product_103  Electronics    Store_4   Houston       304.98  \n",
       "299  Product_102         Home    Store_1   Houston       404.11  \n",
       "\n",
       "[300 rows x 11 columns]"
      ]
     },
     "execution_count": 36,
     "metadata": {},
     "output_type": "execute_result"
    }
   ],
   "source": [
    "df"
   ]
  },
  {
   "cell_type": "markdown",
   "id": "d3864f83-9048-469a-9093-7779f0d64578",
   "metadata": {},
   "source": [
    "**Step 3: Load**"
   ]
  },
  {
   "cell_type": "code",
   "execution_count": 38,
   "id": "5e4b4154-0e85-4eb0-83d3-beb1ce80e9ff",
   "metadata": {},
   "outputs": [],
   "source": [
    "df.to_csv('cleaned_sales_date.csv',index=False)"
   ]
  },
  {
   "cell_type": "markdown",
   "id": "27162fc1-c98a-4cad-8ee5-cb077f6282e9",
   "metadata": {},
   "source": [
    "**Exploratory Data Analysis  (EDA)**"
   ]
  },
  {
   "cell_type": "markdown",
   "id": "fbfa6b95-699e-4a71-ac50-43cfc598eb18",
   "metadata": {},
   "source": [
    "What’s the best-selling product?"
   ]
  },
  {
   "cell_type": "code",
   "execution_count": 41,
   "id": "46b8515a-90f9-45cf-8bc1-c8ac03925286",
   "metadata": {},
   "outputs": [],
   "source": [
    "best_selling_product = df.groupby('product_id')['quantity'].sum().sort_values(ascending=False).reset_index()"
   ]
  },
  {
   "cell_type": "code",
   "execution_count": 42,
   "id": "cb8d0d2b-5fac-43da-95c6-123e4f4f2c3f",
   "metadata": {},
   "outputs": [
    {
     "data": {
      "text/html": [
       "<div>\n",
       "<style scoped>\n",
       "    .dataframe tbody tr th:only-of-type {\n",
       "        vertical-align: middle;\n",
       "    }\n",
       "\n",
       "    .dataframe tbody tr th {\n",
       "        vertical-align: top;\n",
       "    }\n",
       "\n",
       "    .dataframe thead th {\n",
       "        text-align: right;\n",
       "    }\n",
       "</style>\n",
       "<table border=\"1\" class=\"dataframe\">\n",
       "  <thead>\n",
       "    <tr style=\"text-align: right;\">\n",
       "      <th></th>\n",
       "      <th>product_id</th>\n",
       "      <th>quantity</th>\n",
       "    </tr>\n",
       "  </thead>\n",
       "  <tbody>\n",
       "    <tr>\n",
       "      <th>0</th>\n",
       "      <td>110</td>\n",
       "      <td>197</td>\n",
       "    </tr>\n",
       "    <tr>\n",
       "      <th>1</th>\n",
       "      <td>107</td>\n",
       "      <td>178</td>\n",
       "    </tr>\n",
       "    <tr>\n",
       "      <th>2</th>\n",
       "      <td>103</td>\n",
       "      <td>175</td>\n",
       "    </tr>\n",
       "    <tr>\n",
       "      <th>3</th>\n",
       "      <td>105</td>\n",
       "      <td>175</td>\n",
       "    </tr>\n",
       "    <tr>\n",
       "      <th>4</th>\n",
       "      <td>101</td>\n",
       "      <td>163</td>\n",
       "    </tr>\n",
       "    <tr>\n",
       "      <th>5</th>\n",
       "      <td>106</td>\n",
       "      <td>131</td>\n",
       "    </tr>\n",
       "    <tr>\n",
       "      <th>6</th>\n",
       "      <td>104</td>\n",
       "      <td>124</td>\n",
       "    </tr>\n",
       "    <tr>\n",
       "      <th>7</th>\n",
       "      <td>108</td>\n",
       "      <td>123</td>\n",
       "    </tr>\n",
       "    <tr>\n",
       "      <th>8</th>\n",
       "      <td>109</td>\n",
       "      <td>111</td>\n",
       "    </tr>\n",
       "    <tr>\n",
       "      <th>9</th>\n",
       "      <td>102</td>\n",
       "      <td>108</td>\n",
       "    </tr>\n",
       "  </tbody>\n",
       "</table>\n",
       "</div>"
      ],
      "text/plain": [
       "   product_id  quantity\n",
       "0         110       197\n",
       "1         107       178\n",
       "2         103       175\n",
       "3         105       175\n",
       "4         101       163\n",
       "5         106       131\n",
       "6         104       124\n",
       "7         108       123\n",
       "8         109       111\n",
       "9         102       108"
      ]
     },
     "execution_count": 42,
     "metadata": {},
     "output_type": "execute_result"
    }
   ],
   "source": [
    "best_selling_product"
   ]
  },
  {
   "cell_type": "markdown",
   "id": "17b5304a-2c11-4da2-801d-59be52607b1c",
   "metadata": {},
   "source": [
    "Which month had the highest revenue?"
   ]
  },
  {
   "cell_type": "code",
   "execution_count": 44,
   "id": "1205da4e-9351-4e14-a2ee-65f27d1e51fd",
   "metadata": {},
   "outputs": [],
   "source": [
    "df['months'] = df['date'].dt.month"
   ]
  },
  {
   "cell_type": "code",
   "execution_count": 45,
   "id": "ea58c36f-7f8d-4dd7-b9c2-09b112bff6ac",
   "metadata": {},
   "outputs": [],
   "source": [
    "highest_revenue_by_month = df.groupby('months')['total_price'].sum().sort_values(ascending=False).reset_index()"
   ]
  },
  {
   "cell_type": "code",
   "execution_count": 46,
   "id": "c6695d87-c9f9-44a3-b543-3602e1c5f381",
   "metadata": {},
   "outputs": [
    {
     "data": {
      "text/html": [
       "<div>\n",
       "<style scoped>\n",
       "    .dataframe tbody tr th:only-of-type {\n",
       "        vertical-align: middle;\n",
       "    }\n",
       "\n",
       "    .dataframe tbody tr th {\n",
       "        vertical-align: top;\n",
       "    }\n",
       "\n",
       "    .dataframe thead th {\n",
       "        text-align: right;\n",
       "    }\n",
       "</style>\n",
       "<table border=\"1\" class=\"dataframe\">\n",
       "  <thead>\n",
       "    <tr style=\"text-align: right;\">\n",
       "      <th></th>\n",
       "      <th>months</th>\n",
       "      <th>total_price</th>\n",
       "    </tr>\n",
       "  </thead>\n",
       "  <tbody>\n",
       "    <tr>\n",
       "      <th>0</th>\n",
       "      <td>3</td>\n",
       "      <td>28793.5</td>\n",
       "    </tr>\n",
       "    <tr>\n",
       "      <th>1</th>\n",
       "      <td>1</td>\n",
       "      <td>25740.0</td>\n",
       "    </tr>\n",
       "    <tr>\n",
       "      <th>2</th>\n",
       "      <td>2</td>\n",
       "      <td>25688.7</td>\n",
       "    </tr>\n",
       "  </tbody>\n",
       "</table>\n",
       "</div>"
      ],
      "text/plain": [
       "   months  total_price\n",
       "0       3      28793.5\n",
       "1       1      25740.0\n",
       "2       2      25688.7"
      ]
     },
     "execution_count": 46,
     "metadata": {},
     "output_type": "execute_result"
    }
   ],
   "source": [
    "highest_revenue_by_month"
   ]
  },
  {
   "cell_type": "markdown",
   "id": "71f41ae5-89af-43a0-ae9d-cdae0839f0fc",
   "metadata": {},
   "source": [
    "Which store performs the best?"
   ]
  },
  {
   "cell_type": "code",
   "execution_count": 48,
   "id": "9be49f3a-c0e7-4c94-a12c-c6652f3965dd",
   "metadata": {},
   "outputs": [],
   "source": [
    "best_store = df.groupby('store_name')['total_price'].sum().sort_values(ascending=False).reset_index()"
   ]
  },
  {
   "cell_type": "code",
   "execution_count": 49,
   "id": "6d4908df-b757-4353-a38a-8fc706e34775",
   "metadata": {},
   "outputs": [
    {
     "data": {
      "text/html": [
       "<div>\n",
       "<style scoped>\n",
       "    .dataframe tbody tr th:only-of-type {\n",
       "        vertical-align: middle;\n",
       "    }\n",
       "\n",
       "    .dataframe tbody tr th {\n",
       "        vertical-align: top;\n",
       "    }\n",
       "\n",
       "    .dataframe thead th {\n",
       "        text-align: right;\n",
       "    }\n",
       "</style>\n",
       "<table border=\"1\" class=\"dataframe\">\n",
       "  <thead>\n",
       "    <tr style=\"text-align: right;\">\n",
       "      <th></th>\n",
       "      <th>store_name</th>\n",
       "      <th>total_price</th>\n",
       "    </tr>\n",
       "  </thead>\n",
       "  <tbody>\n",
       "    <tr>\n",
       "      <th>0</th>\n",
       "      <td>Store_1</td>\n",
       "      <td>18438.22</td>\n",
       "    </tr>\n",
       "    <tr>\n",
       "      <th>1</th>\n",
       "      <td>Store_5</td>\n",
       "      <td>18120.47</td>\n",
       "    </tr>\n",
       "    <tr>\n",
       "      <th>2</th>\n",
       "      <td>Store_4</td>\n",
       "      <td>16349.96</td>\n",
       "    </tr>\n",
       "    <tr>\n",
       "      <th>3</th>\n",
       "      <td>Store_2</td>\n",
       "      <td>15222.70</td>\n",
       "    </tr>\n",
       "    <tr>\n",
       "      <th>4</th>\n",
       "      <td>Store_3</td>\n",
       "      <td>12090.85</td>\n",
       "    </tr>\n",
       "  </tbody>\n",
       "</table>\n",
       "</div>"
      ],
      "text/plain": [
       "  store_name  total_price\n",
       "0    Store_1     18438.22\n",
       "1    Store_5     18120.47\n",
       "2    Store_4     16349.96\n",
       "3    Store_2     15222.70\n",
       "4    Store_3     12090.85"
      ]
     },
     "execution_count": 49,
     "metadata": {},
     "output_type": "execute_result"
    }
   ],
   "source": [
    "best_store"
   ]
  },
  {
   "cell_type": "markdown",
   "id": "0cfc0889-2165-4f34-803a-881a40b90e3f",
   "metadata": {},
   "source": [
    "Average order value?"
   ]
  },
  {
   "cell_type": "code",
   "execution_count": 51,
   "id": "72835f46-bdd3-4fc9-b7e7-c1a1ad3b5ea4",
   "metadata": {},
   "outputs": [],
   "source": [
    "avg_order_value = round(df['total_price'].mean(),2)"
   ]
  },
  {
   "cell_type": "code",
   "execution_count": 52,
   "id": "2a935021-383c-440c-bbf0-6f6a3e77ff65",
   "metadata": {},
   "outputs": [
    {
     "data": {
      "text/plain": [
       "267.41"
      ]
     },
     "execution_count": 52,
     "metadata": {},
     "output_type": "execute_result"
    }
   ],
   "source": [
    "avg_order_value"
   ]
  },
  {
   "cell_type": "markdown",
   "id": "973dc532-b61d-49a8-8872-3559faa403b5",
   "metadata": {},
   "source": [
    "**Key Findings**\n",
    "\n",
    "\n",
    "🥇 Best-Selling Product (by quantity sold):\n",
    "Product_110 with 197 units sold.\n",
    "\n",
    "📅 Month with Highest Revenue:\n",
    "March 2023 with a total revenue of ₹28,793.50.\n",
    "\n",
    "🏪 Top Performing Store (by total revenue):\n",
    "Store_1 with ₹18,438.22 in sales.\n",
    "\n",
    "💵 Average Order Value (AOV):\n",
    "₹267.41 per order."
   ]
  },
  {
   "cell_type": "markdown",
   "id": "d25b96b0-e3ca-4156-8860-bc0ae7771923",
   "metadata": {},
   "source": [
    "**Creating visualization charts**"
   ]
  },
  {
   "cell_type": "code",
   "execution_count": 55,
   "id": "219f2716-f4e2-4935-b97c-d17b10e022eb",
   "metadata": {},
   "outputs": [
    {
     "data": {
      "text/plain": [
       "<Axes: xlabel='quantity', ylabel='product_id'>"
      ]
     },
     "execution_count": 55,
     "metadata": {},
     "output_type": "execute_result"
    },
    {
     "data": {
      "image/png": "[encoded data removed]",
      "text/plain": [
       "<Figure size 640x480 with 1 Axes>"
      ]
     },
     "metadata": {},
     "output_type": "display_data"
    }
   ],
   "source": [
    "sns.barplot(best_selling_product, x='quantity', y='product_id')"
   ]
  },
  {
   "cell_type": "code",
   "execution_count": 100,
   "id": "65c55890-838d-44a2-83a4-b6d41ff9432d",
   "metadata": {},
   "outputs": [
    {
     "data": {
      "text/plain": [
       "<Axes: xlabel='months', ylabel='total_price'>"
      ]
     },
     "execution_count": 100,
     "metadata": {},
     "output_type": "execute_result"
    },
    {
     "data": {
      "image/png": "[encoded data removed]",
      "text/plain": [
       "<Figure size 640x480 with 1 Axes>"
      ]
     },
     "metadata": {},
     "output_type": "display_data"
    }
   ],
   "source": [
    "sns.barplot(highest_revenue_by_month, x='months',y='total_price')"
   ]
  },
  {
   "cell_type": "code",
   "execution_count": 57,
   "id": "22bc1d7a-8326-4d13-b09b-0f77ea2791ed",
   "metadata": {},
   "outputs": [
    {
     "data": {
      "text/plain": [
       "<Axes: xlabel='store_name', ylabel='total_price'>"
      ]
     },
     "execution_count": 57,
     "metadata": {},
     "output_type": "execute_result"
    },
    {
     "data": {
      "image/png": "[encoded data removed]",
      "text/plain": [
       "<Figure size 640x480 with 1 Axes>"
      ]
     },
     "metadata": {},
     "output_type": "display_data"
    }
   ],
   "source": [
    "sns.barplot(best_store,x='store_name',y='total_price')"
   ]
  },
  {
   "cell_type": "code",
   "execution_count": null,
   "id": "f1d4807f-b3e9-420f-9f2a-b6ea6d97868a",
   "metadata": {},
   "outputs": [],
   "source": []
  }
 ],
 "metadata": {
  "kernelspec": {
   "display_name": "Python 3 (ipykernel)",
   "language": "python",
   "name": "python3"
  },
  "language_info": {
   "codemirror_mode": {
    "name": "ipython",
    "version": 3
   },
   "file_extension": ".py",
   "mimetype": "text/x-python",
   "name": "python",
   "nbconvert_exporter": "python",
   "pygments_lexer": "ipython3",
   "version": "3.12.4"
  }
 },
 "nbformat": 4,
 "nbformat_minor": 5
}
